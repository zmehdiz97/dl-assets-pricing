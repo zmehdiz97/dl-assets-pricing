{
 "cells": [
  {
   "cell_type": "code",
   "execution_count": 1,
   "metadata": {
    "scrolled": true
   },
   "outputs": [],
   "source": [
    "%load_ext autoreload\n",
    "%autoreload 2\n",
    "import sys\n",
    "sys.path.append(\"./dl-assets-pricing\")\n",
    "import os\n",
    "import torch\n",
    "import torch.nn as nn\n",
    "import torch.nn.functional as F\n",
    "import matplotlib.pyplot as plt\n",
    "import pandas as pd\n",
    "import datetime as dt\n",
    "import numpy as np\n",
    "\n",
    "from preprocess_data import next_month, Dataset, train_val_split, batchify\n",
    "from train import trainmodel, check_accuracy\n",
    "from losses import pricing_error, time_series_variation\n",
    "from torch.utils.data.dataloader import DataLoader\n",
    "from fama_french_helper import ff_returns\n",
    "from metrics import compute_Rts, compute_PE, compute_CS \n",
    "import os\n",
    "os.environ[\"KMP_DUPLICATE_LIB_OK\"]=\"TRUE\""
   ]
  },
  {
   "cell_type": "code",
   "execution_count": 2,
   "metadata": {},
   "outputs": [],
   "source": [
    "from model import DeepCharacteristics, SortedFactorModel"
   ]
  },
  {
   "cell_type": "markdown",
   "metadata": {},
   "source": [
    "## Load Data"
   ]
  },
  {
   "cell_type": "code",
   "execution_count": 4,
   "metadata": {},
   "outputs": [],
   "source": [
    "ff_factors_file = 'C:/Users/Raach/Desktop/3A/Projet MDS/fama_french_factors.csv'\n",
    "ff_ptf_file = 'C:/Users/Raach/Desktop/3A/Projet MDS/ff_portfolios.csv'\n",
    "firm_carac = pd.read_csv(\"C:/Users/Raach/Desktop/3A/Projet MDS/S2000_3300HighestCap.csv\")\n",
    "firm_carac[\"be\"] = firm_carac[\"be\"]*1e6\n",
    "ff_portfolio = pd.read_csv(ff_ptf_file)\n",
    "ff_portfolio = ff_portfolio[ff_portfolio[\"date\"].notnull()]\n",
    "fff = pd.read_csv(ff_factors_file)\n",
    "for df in [firm_carac,\n",
    "           ff_portfolio,\n",
    "           fff]:\n",
    "        if type(df[\"date\"].iloc[0]) == str:\n",
    "            df[\"date\"] = df[\"date\"].apply(lambda x: dt.datetime.strptime(x, \"%Y-%m-%d\"))\n",
    "        df[\"date\"] = df[\"date\"].apply(lambda x: x.replace(day=1))"
   ]
  },
  {
   "cell_type": "code",
   "execution_count": 5,
   "metadata": {},
   "outputs": [],
   "source": [
    "firm_carac[\"be\"] = firm_carac[\"be\"] / 1e9\n",
    "firm_carac[\"me\"] = firm_carac[\"me\"] / 1e9\n",
    "firm_carac[\"BtM\"] = firm_carac[\"be\"]/firm_carac[\"me\"]"
   ]
  },
  {
   "cell_type": "code",
   "execution_count": 6,
   "metadata": {},
   "outputs": [],
   "source": [
    "current_month = dt.datetime(2000, 1, 1)\n",
    "start_date = current_month\n",
    "firm_characteristics = []\n",
    "firm_returns = []\n",
    "benchmark_factors = []\n",
    "portfolios_returns = []\n",
    "while current_month <= dt.datetime(2021, 12, 31):\n",
    "    m_fc = firm_carac[(firm_carac[\"date\"] == current_month) & (firm_carac[\"is_valid\"])\n",
    "                      ].sort_values(\"me\", ascending=False).iloc[:2300]\n",
    "    assert len(m_fc) == 2300\n",
    "    firm_characteristics.append(m_fc[[\"retx\", \"me\", \"be\"]].to_numpy())\n",
    "    firm_returns.append(m_fc[\"retx\"].to_numpy())\n",
    "    benchmark_factors.append(fff[fff[\"date\"] == current_month][[\"mktrf\", \"smb\", \"hml\", \"rf\"]].to_numpy())\n",
    "    portfolios_returns.append((ff_portfolio[ff_portfolio[\"date\"] == current_month][[\n",
    "                              k for k in ff_portfolio.keys() if \"vwret\" in k]]).to_numpy())\n",
    "    current_month = next_month(current_month)\n",
    "current_month = current_month-dt.timedelta(1)\n",
    "firm_characteristics = np.stack(firm_characteristics)\n",
    "firm_returns = np.stack(firm_returns)\n",
    "benchmark_factors = np.stack(benchmark_factors).squeeze(axis=1)\n",
    "portfolios_returns = np.stack(portfolios_returns).squeeze(axis=1)\n",
    "portfolios_excess_returns = portfolios_returns - benchmark_factors[:,-1][:, None]\n",
    "ds = Dataset(firm_characteristics[:, :, [1, 2]], firm_returns, benchmark_factors[:, [0, 2]], portfolios_excess_returns, start_date=start_date, end_date=current_month)"
   ]
  },
  {
   "cell_type": "code",
   "execution_count": 21,
   "metadata": {},
   "outputs": [],
   "source": [
    "ptf_dict = ff_returns(ff_ptf_file, ff_factors_file, start_date, current_month, factors=[\"mktrf\", \"hml\"])\n",
    "ff3_coefs = pd.DataFrame.from_dict(ptf_dict)"
   ]
  },
  {
   "cell_type": "code",
   "execution_count": 22,
   "metadata": {},
   "outputs": [
    {
     "data": {
      "text/html": [
       "<div>\n",
       "<style scoped>\n",
       "    .dataframe tbody tr th:only-of-type {\n",
       "        vertical-align: middle;\n",
       "    }\n",
       "\n",
       "    .dataframe tbody tr th {\n",
       "        vertical-align: top;\n",
       "    }\n",
       "\n",
       "    .dataframe thead th {\n",
       "        text-align: right;\n",
       "    }\n",
       "</style>\n",
       "<table border=\"1\" class=\"dataframe\">\n",
       "  <thead>\n",
       "    <tr style=\"text-align: right;\">\n",
       "      <th></th>\n",
       "      <th>smlo</th>\n",
       "      <th>smme</th>\n",
       "      <th>smhi</th>\n",
       "      <th>bilo</th>\n",
       "      <th>bime</th>\n",
       "      <th>bihi</th>\n",
       "    </tr>\n",
       "  </thead>\n",
       "  <tbody>\n",
       "    <tr>\n",
       "      <th>const</th>\n",
       "      <td>-0.001305</td>\n",
       "      <td>0.002842</td>\n",
       "      <td>0.005165</td>\n",
       "      <td>0.001042</td>\n",
       "      <td>0.001865</td>\n",
       "      <td>0.000169</td>\n",
       "    </tr>\n",
       "    <tr>\n",
       "      <th>mktrf</th>\n",
       "      <td>1.436448</td>\n",
       "      <td>1.156232</td>\n",
       "      <td>1.111091</td>\n",
       "      <td>1.172560</td>\n",
       "      <td>1.061834</td>\n",
       "      <td>1.211756</td>\n",
       "    </tr>\n",
       "    <tr>\n",
       "      <th>hml</th>\n",
       "      <td>-0.430999</td>\n",
       "      <td>0.190790</td>\n",
       "      <td>0.420701</td>\n",
       "      <td>-0.200569</td>\n",
       "      <td>0.446377</td>\n",
       "      <td>0.786664</td>\n",
       "    </tr>\n",
       "  </tbody>\n",
       "</table>\n",
       "</div>"
      ],
      "text/plain": [
       "           smlo      smme      smhi      bilo      bime      bihi\n",
       "const -0.001305  0.002842  0.005165  0.001042  0.001865  0.000169\n",
       "mktrf  1.436448  1.156232  1.111091  1.172560  1.061834  1.211756\n",
       "hml   -0.430999  0.190790  0.420701 -0.200569  0.446377  0.786664"
      ]
     },
     "execution_count": 22,
     "metadata": {},
     "output_type": "execute_result"
    }
   ],
   "source": [
    "ff3_coefs"
   ]
  },
  {
   "cell_type": "code",
   "execution_count": 9,
   "metadata": {},
   "outputs": [
    {
     "name": "stdout",
     "output_type": "stream",
     "text": [
      "Validation data on time range: 2017-09-01 to 2021-12-31\n"
     ]
    }
   ],
   "source": [
    "train_set, val_set = train_val_split(ds)\n",
    "batch_size = 5\n",
    "trainloader = batchify(train_set, batch_size)\n",
    "valloader = batchify(val_set, batch_size)"
   ]
  },
  {
   "cell_type": "markdown",
   "metadata": {},
   "source": [
    "## Design and train model"
   ]
  },
  {
   "cell_type": "code",
   "execution_count": 10,
   "metadata": {},
   "outputs": [],
   "source": [
    "lambda_ = 10\n",
    "def loss(gt_returns, pred_returns):\n",
    "        return lambda_ * pricing_error(gt_returns, pred_returns) + time_series_variation(gt_returns, pred_returns)"
   ]
  },
  {
   "cell_type": "code",
   "execution_count": 11,
   "metadata": {},
   "outputs": [],
   "source": [
    "network = SortedFactorModel(2, 2, 4, n_deep_factors=1, n_BM_factors=2, n_portfolio=6, ranking_method=\"softmax\")"
   ]
  },
  {
   "cell_type": "code",
   "execution_count": 12,
   "metadata": {
    "scrolled": true
   },
   "outputs": [
    {
     "name": "stdout",
     "output_type": "stream",
     "text": [
      "Epoch     0/   50, loss = -1.0000, val_loss = 0.017434\n"
     ]
    },
    {
     "name": "stderr",
     "output_type": "stream",
     "text": [
      " 10%|█████████████▌                                                                                                                          | 5/50 [00:19<02:51,  3.81s/it]"
     ]
    },
    {
     "name": "stdout",
     "output_type": "stream",
     "text": [
      "Epoch     5/   50, loss = 0.007243, val_loss = 0.010013\n"
     ]
    },
    {
     "name": "stderr",
     "output_type": "stream",
     "text": [
      " 20%|███████████████████████████                                                                                                            | 10/50 [00:39<02:39,  4.00s/it]"
     ]
    },
    {
     "name": "stdout",
     "output_type": "stream",
     "text": [
      "Epoch    10/   50, loss = 0.003630, val_loss = 0.005373\n"
     ]
    },
    {
     "name": "stderr",
     "output_type": "stream",
     "text": [
      " 30%|████████████████████████████████████████▌                                                                                              | 15/50 [00:57<02:08,  3.67s/it]"
     ]
    },
    {
     "name": "stdout",
     "output_type": "stream",
     "text": [
      "Epoch    15/   50, loss = 0.001932, val_loss = 0.003003\n"
     ]
    },
    {
     "name": "stderr",
     "output_type": "stream",
     "text": [
      " 40%|██████████████████████████████████████████████████████                                                                                 | 20/50 [01:15<01:48,  3.61s/it]"
     ]
    },
    {
     "name": "stdout",
     "output_type": "stream",
     "text": [
      "Epoch    20/   50, loss = 0.001792, val_loss = 0.003455\n"
     ]
    },
    {
     "name": "stderr",
     "output_type": "stream",
     "text": [
      " 50%|███████████████████████████████████████████████████████████████████▌                                                                   | 25/50 [01:34<01:30,  3.63s/it]"
     ]
    },
    {
     "name": "stdout",
     "output_type": "stream",
     "text": [
      "Epoch    25/   50, loss = 0.000792, val_loss = 0.001758\n"
     ]
    },
    {
     "name": "stderr",
     "output_type": "stream",
     "text": [
      " 60%|█████████████████████████████████████████████████████████████████████████████████                                                      | 30/50 [01:52<01:13,  3.66s/it]"
     ]
    },
    {
     "name": "stdout",
     "output_type": "stream",
     "text": [
      "Epoch    30/   50, loss = 0.000642, val_loss = 0.001344\n"
     ]
    },
    {
     "name": "stderr",
     "output_type": "stream",
     "text": [
      " 70%|██████████████████████████████████████████████████████████████████████████████████████████████▌                                        | 35/50 [02:10<00:53,  3.60s/it]"
     ]
    },
    {
     "name": "stdout",
     "output_type": "stream",
     "text": [
      "Epoch    35/   50, loss = 0.000689, val_loss = 0.001102\n"
     ]
    },
    {
     "name": "stderr",
     "output_type": "stream",
     "text": [
      " 80%|████████████████████████████████████████████████████████████████████████████████████████████████████████████                           | 40/50 [02:28<00:35,  3.58s/it]"
     ]
    },
    {
     "name": "stdout",
     "output_type": "stream",
     "text": [
      "Epoch    40/   50, loss = 0.000582, val_loss = 0.001165\n"
     ]
    },
    {
     "name": "stderr",
     "output_type": "stream",
     "text": [
      " 90%|█████████████████████████████████████████████████████████████████████████████████████████████████████████████████████████▌             | 45/50 [02:46<00:17,  3.58s/it]"
     ]
    },
    {
     "name": "stdout",
     "output_type": "stream",
     "text": [
      "Epoch    45/   50, loss = 0.000576, val_loss = 0.000969\n"
     ]
    },
    {
     "name": "stderr",
     "output_type": "stream",
     "text": [
      "100%|███████████████████████████████████████████████████████████████████████████████████████████████████████████████████████████████████████| 50/50 [03:05<00:00,  3.71s/it]"
     ]
    },
    {
     "name": "stdout",
     "output_type": "stream",
     "text": [
      "Epoch    50/   50, loss = 0.000515, val_loss = 0.000729\n"
     ]
    },
    {
     "name": "stderr",
     "output_type": "stream",
     "text": [
      "\n"
     ]
    }
   ],
   "source": [
    "network, train_loss, val_loss = trainmodel(network, loss, trainloader, valloader, None, None, 50, weight_decay=0.1,\n",
    "               loss_every=5, learning_rate=0.001)"
   ]
  },
  {
   "cell_type": "code",
   "execution_count": 13,
   "metadata": {},
   "outputs": [
    {
     "data": {
      "image/png": "[encoded data removed]",
      "text/plain": [
       "<Figure size 432x288 with 1 Axes>"
      ]
     },
     "metadata": {
      "needs_background": "light"
     },
     "output_type": "display_data"
    }
   ],
   "source": [
    "plt.plot(train_loss, label=\"training loss\", color=\"black\")\n",
    "plt.plot(val_loss, label=\"validation loss\", color=\"g\")\n",
    "plt.title(r\"Loss as defined by the paper, $\\lambda = 10$\")\n",
    "plt.xlabel(\"epoch\")\n",
    "plt.ylabel(\"loss\")\n",
    "plt.grid()\n",
    "plt.legend();"
   ]
  },
  {
   "cell_type": "markdown",
   "metadata": {},
   "source": [
    "## Test on same training portfolio but different time scope"
   ]
  },
  {
   "cell_type": "code",
   "execution_count": 14,
   "metadata": {},
   "outputs": [],
   "source": [
    "data = batchify(val_set, len(val_set))[0]\n",
    "Z, r, g, R = data\n",
    "R_p, f = network.forward(Z, r, g)\n",
    "g = g.detach().numpy()\n",
    "betas = torch.concat([network.gamma, network.beta], axis=1)"
   ]
  },
  {
   "cell_type": "code",
   "execution_count": 15,
   "metadata": {
    "scrolled": true
   },
   "outputs": [
    {
     "name": "stdout",
     "output_type": "stream",
     "text": [
      "Time series R: 0.95037\n",
      "Pricing error PE (1e-5): 0.38116\n",
      "Cross sectional R: 0.8789686233353688\n"
     ]
    }
   ],
   "source": [
    "print(f\"Time series R: {compute_Rts(R, R_p):.5f}\")\n",
    "print(f\"Pricing error PE (1e-5): {compute_PE(R, R_p)*1e5:.5f}\")\n",
    "print(f\"Cross sectional R: {compute_CS(R, np.random.randn(18).reshape(6,3))}\")"
   ]
  },
  {
   "cell_type": "code",
   "execution_count": 24,
   "metadata": {},
   "outputs": [
    {
     "name": "stdout",
     "output_type": "stream",
     "text": [
      "Time series R: 0.86222\n",
      "Pricing error PE (1e-5): 3.28411\n",
      "Cross sectional R: 0.9328430757685438\n"
     ]
    }
   ],
   "source": [
    "g_aug = np.concatenate([np.ones([g.shape[0], 1]), g], axis=1)\n",
    "R_2f = g_aug @ ff3_coefs.to_numpy()\n",
    "print(f\"Time series R: {compute_Rts(R, R_2f):.5f}\")\n",
    "print(f\"Pricing error PE (1e-5): {compute_PE(R, R_2f)*1e5:.5f}\")\n",
    "print(f\"Cross sectional R: {compute_CS(R, ff3_coefs.to_numpy().T)}\")"
   ]
  },
  {
   "cell_type": "code",
   "execution_count": 25,
   "metadata": {},
   "outputs": [],
   "source": [
    "from scipy.stats import pearsonr"
   ]
  },
  {
   "cell_type": "code",
   "execution_count": 26,
   "metadata": {
    "scrolled": true
   },
   "outputs": [
    {
     "data": {
      "text/plain": [
       "(-0.8072257158932712, 8.388687748580342e-13)"
      ]
     },
     "execution_count": 26,
     "metadata": {},
     "output_type": "execute_result"
    }
   ],
   "source": [
    "f_pred = f.detach().numpy().reshape(-1)\n",
    "f_gt = benchmark_factors[-len(val_set):, 1]\n",
    "pearsonr(f_gt, f_pred)"
   ]
  },
  {
   "cell_type": "code",
   "execution_count": 28,
   "metadata": {},
   "outputs": [
    {
     "data": {
      "image/png": "[encoded data removed]",
      "text/plain": [
       "<Figure size 432x288 with 1 Axes>"
      ]
     },
     "metadata": {
      "needs_background": "light"
     },
     "output_type": "display_data"
    }
   ],
   "source": [
    "plt.scatter(f_gt, f_pred, color='g')\n",
    "plt.plot([-0.15,0.15], [0.15,-0.15], color='r')\n",
    "plt.plot([-0.15,0.15], [-0.15,0.15], color='black')\n",
    "plt.xlabel(\"GT SMB\")\n",
    "plt.ylabel(\"Predicted deep factor\")\n",
    "plt.title(\"Correlation: Deep Factor % retained FF3 factor\")\n",
    "plt.grid();"
   ]
  },
  {
   "cell_type": "code",
   "execution_count": 29,
   "metadata": {},
   "outputs": [
    {
     "name": "stdout",
     "output_type": "stream",
     "text": [
      "Regression coef. with deep factor:\n",
      "portfolio name: 'smlo', 'smme', 'smhi', 'bilo', 'bime','bihi'\n",
      "           ['-0.552', '-0.499', '-0.542', '0.087', '-0.032', '0.036']\n"
     ]
    }
   ],
   "source": [
    "print(\"Regression coef. with deep factor:\")\n",
    "print(\"portfolio name:\", \"'smlo', 'smme', 'smhi', 'bilo', 'bime','bihi'\")\n",
    "print(\"          \", [f\"{x:.3f}\" for x in list(network.beta.detach().numpy().flatten())])"
   ]
  },
  {
   "cell_type": "code",
   "execution_count": 30,
   "metadata": {},
   "outputs": [],
   "source": [
    "x = torch.abs((R_p-R)/R).flatten().detach().numpy() * 100\n",
    "x = x[x<200]"
   ]
  },
  {
   "cell_type": "code",
   "execution_count": 31,
   "metadata": {
    "scrolled": true
   },
   "outputs": [
    {
     "data": {
      "image/png": "[encoded data removed]",
      "text/plain": [
       "<Figure size 432x288 with 1 Axes>"
      ]
     },
     "metadata": {
      "needs_background": "light"
     },
     "output_type": "display_data"
    }
   ],
   "source": [
    "h, b, _ = plt.hist(x, bins=50)"
   ]
  },
  {
   "cell_type": "code",
   "execution_count": 32,
   "metadata": {},
   "outputs": [
    {
     "data": {
      "text/plain": [
       "18.879385"
      ]
     },
     "execution_count": 32,
     "metadata": {},
     "output_type": "execute_result"
    }
   ],
   "source": [
    "np.median(x)"
   ]
  },
  {
   "cell_type": "code",
   "execution_count": 33,
   "metadata": {
    "scrolled": true
   },
   "outputs": [
    {
     "data": {
      "text/plain": [
       "[<matplotlib.lines.Line2D at 0x146d63d7c40>]"
      ]
     },
     "execution_count": 33,
     "metadata": {},
     "output_type": "execute_result"
    },
    {
     "data": {
      "image/png": "[encoded data removed]",
      "text/plain": [
       "<Figure size 432x288 with 1 Axes>"
      ]
     },
     "metadata": {
      "needs_background": "light"
     },
     "output_type": "display_data"
    }
   ],
   "source": [
    "pdf = h/h.sum()\n",
    "cdf = np.cumsum(pdf)\n",
    "plt.plot(b[1:], cdf)"
   ]
  },
  {
   "cell_type": "markdown",
   "metadata": {},
   "source": [
    "## Test on different training portfolio but different time scope"
   ]
  },
  {
   "cell_type": "code",
   "execution_count": 34,
   "metadata": {},
   "outputs": [],
   "source": [
    "start_date = dt.datetime(2017,10,1)\n",
    "pf25 = pd.read_csv('C:/Users/Raach/Desktop/3A/Projet MDS/ff_portfolios25.csv')\n",
    "pf6 = pd.read_csv('C:/Users/Raach/Desktop/3A/Projet MDS/ff_portfolios.csv')\n",
    "pf25 = pf25[pf25[\"date\"].notnull()]\n",
    "pf6 = pf6[pf6[\"date\"].notnull()]\n",
    "fff = fff[fff[\"date\"].notnull()]\n",
    "for df in [pf25,\n",
    "           pf6,\n",
    "          fff]:\n",
    "    if type(df[\"date\"].iloc[0]) == str:\n",
    "        df[\"date\"] = df[\"date\"].apply(lambda x: dt.datetime.strptime(x, \"%Y-%m-%d\"))\n",
    "        df[\"date\"] = df[\"date\"].apply(lambda x: x.replace(day=1))\n",
    "pf25 = pf25[(pf25[\"date\"]>=start_date) & (pf25[\"date\"]<=current_month)]\n",
    "pf6 = pf6[(pf6[\"date\"]>=start_date) & (pf6[\"date\"]<=current_month)]\n",
    "fff = fff[(fff[\"date\"]>=start_date) & (fff[\"date\"]<=current_month)]"
   ]
  },
  {
   "cell_type": "code",
   "execution_count": 35,
   "metadata": {},
   "outputs": [],
   "source": [
    "## Predict deep factor\n",
    "data = batchify(val_set, len(val_set))[0]\n",
    "Z, r, g, _ = data\n",
    "_, f = network.forward(Z, r, g)"
   ]
  },
  {
   "cell_type": "code",
   "execution_count": 36,
   "metadata": {},
   "outputs": [],
   "source": [
    "R = pf25[[k for k in pf25.keys() if \"vwret\"in k]].to_numpy()-fff[\"rf\"].to_numpy()[:, None]"
   ]
  },
  {
   "cell_type": "code",
   "execution_count": 37,
   "metadata": {},
   "outputs": [
    {
     "name": "stderr",
     "output_type": "stream",
     "text": [
      "C:\\Users\\Raach\\AppData\\Local\\Temp/ipykernel_36980/2733650600.py:1: SettingWithCopyWarning: \n",
      "A value is trying to be set on a copy of a slice from a DataFrame.\n",
      "Try using .loc[row_indexer,col_indexer] = value instead\n",
      "\n",
      "See the caveats in the documentation: https://pandas.pydata.org/pandas-docs/stable/user_guide/indexing.html#returning-a-view-versus-a-copy\n",
      "  fff[\"deep_f\"] = f.detach().numpy().flatten()\n"
     ]
    }
   ],
   "source": [
    "fff[\"deep_f\"] = f.detach().numpy().flatten()\n",
    "fff.to_csv(\"test_factors.csv\")"
   ]
  },
  {
   "cell_type": "code",
   "execution_count": 38,
   "metadata": {},
   "outputs": [
    {
     "name": "stdout",
     "output_type": "stream",
     "text": [
      "Time series R: 0.91359\n",
      "Pricing error PE (1e-5): 0.35161\n",
      "Cross sectional R: 0.9663279947282789\n"
     ]
    }
   ],
   "source": [
    "ff_ptf_file = 'C:/Users/Raach/Desktop/3A/Projet MDS/ff_portfolios25.csv'\n",
    "ptf_dict = ff_returns(ff_ptf_file, ff_factors_file, start_date, current_month, factors=[\"mktrf\", \"smb\", \"hml\"])\n",
    "ff3_coefs = pd.DataFrame.from_dict(ptf_dict)\n",
    "g = fff[[\"mktrf\", \"smb\", \"hml\"]].to_numpy()\n",
    "g_aug = np.concatenate([np.ones([g.shape[0], 1]), g], axis=1)\n",
    "R_3f = g_aug @ ff3_coefs.to_numpy()\n",
    "print(f\"Time series R: {compute_Rts(R, R_3f):.5f}\")\n",
    "print(f\"Pricing error PE (1e-5): {compute_PE(R, R_3f)*1e5:.5f}\")\n",
    "print(f\"Cross sectional R: {compute_CS(R, ff3_coefs.to_numpy().T)}\")"
   ]
  },
  {
   "cell_type": "code",
   "execution_count": 39,
   "metadata": {},
   "outputs": [
    {
     "name": "stdout",
     "output_type": "stream",
     "text": [
      "Time series R: 0.88747\n",
      "Pricing error PE (1e-5): 0.35161\n",
      "Cross sectional R: 0.9662455177480691\n"
     ]
    }
   ],
   "source": [
    "ff_ptf_file = 'C:/Users/Raach/Desktop/3A/Projet MDS/ff_portfolios25.csv'\n",
    "ff_factors_file = \"test_factors.csv\"\n",
    "ptf_dict = ff_returns(ff_ptf_file, ff_factors_file, start_date, current_month, factors=[\"mktrf\", \"deep_f\", \"hml\"])\n",
    "ff3_coefs = pd.DataFrame.from_dict(ptf_dict)\n",
    "g = fff[[\"mktrf\", \"deep_f\", \"hml\"]].to_numpy()\n",
    "g_aug = np.concatenate([np.ones([g.shape[0], 1]), g], axis=1)\n",
    "R_2f1d = g_aug @ ff3_coefs.to_numpy()\n",
    "print(f\"Time series R: {compute_Rts(R, R_2f1d):.5f}\")\n",
    "print(f\"Pricing error PE (1e-5): {compute_PE(R, R_2f1d)*1e5:.5f}\")\n",
    "print(f\"Cross sectional R: {compute_CS(R, ff3_coefs.to_numpy().T)}\")"
   ]
  },
  {
   "cell_type": "code",
   "execution_count": 40,
   "metadata": {},
   "outputs": [
    {
     "data": {
      "image/png": "[encoded data removed]",
      "text/plain": [
       "<Figure size 432x288 with 1 Axes>"
      ]
     },
     "metadata": {
      "needs_background": "light"
     },
     "output_type": "display_data"
    }
   ],
   "source": [
    "plt.scatter(R[:,0], R_3f[:,0], marker='x', label=\"FF3\", color=\"black\")\n",
    "plt.scatter(R[:,0], R_2f1d[:,0], marker='.', label=\"FF2 + 1dF\", color=\"green\")\n",
    "plt.plot([-0.3,0.3], [-0.3,0.3], 'black')\n",
    "plt.legend()\n",
    "plt.xlabel(\"GT Excess return\")\n",
    "plt.ylabel(\"Pred Excess return\")\n",
    "plt.grid()\n",
    "plt.title(\"Scatter plot of excess returns of 1 FF3 test portefolio\");"
   ]
  },
  {
   "cell_type": "code",
   "execution_count": null,
   "metadata": {},
   "outputs": [],
   "source": []
  }
 ],
 "metadata": {
  "kernelspec": {
   "display_name": "Python 3 (ipykernel)",
   "language": "python",
   "name": "python3"
  },
  "language_info": {
   "codemirror_mode": {
    "name": "ipython",
    "version": 3
   },
   "file_extension": ".py",
   "mimetype": "text/x-python",
   "name": "python",
   "nbconvert_exporter": "python",
   "pygments_lexer": "ipython3",
   "version": "3.8.12"
  }
 },
 "nbformat": 4,
 "nbformat_minor": 4
}
